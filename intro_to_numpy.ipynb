{
 "cells": [
  {
   "cell_type": "markdown",
   "id": "e22e1bd4-2493-421e-b6a7-a4616428a8e4",
   "metadata": {},
   "source": [
    "## Ndarray: the heart of the library\r\n"
   ]
  },
  {
   "cell_type": "code",
   "execution_count": 1,
   "id": "0f9554c0-de46-4ae9-9695-2c1b7276ae0f",
   "metadata": {},
   "outputs": [],
   "source": [
    "import numpy as np"
   ]
  },
  {
   "cell_type": "code",
   "execution_count": 2,
   "id": "7cd1eb20-7272-4cee-be05-520e7453d1c3",
   "metadata": {},
   "outputs": [],
   "source": [
    "a = np.array([1, 2, 3])"
   ]
  },
  {
   "cell_type": "code",
   "execution_count": 3,
   "id": "cb58e937-3538-40a8-bb1a-5757be301440",
   "metadata": {},
   "outputs": [
    {
     "data": {
      "text/plain": [
       "array([1, 2, 3])"
      ]
     },
     "execution_count": 3,
     "metadata": {},
     "output_type": "execute_result"
    }
   ],
   "source": [
    "a"
   ]
  },
  {
   "cell_type": "code",
   "execution_count": 4,
   "id": "1cb83063-84de-4a85-9581-58fe811df9ca",
   "metadata": {},
   "outputs": [
    {
     "data": {
      "text/plain": [
       "numpy.ndarray"
      ]
     },
     "execution_count": 4,
     "metadata": {},
     "output_type": "execute_result"
    }
   ],
   "source": [
    "type(a)"
   ]
  },
  {
   "cell_type": "code",
   "execution_count": 5,
   "id": "f58ee899-6507-4905-8ab0-c65e9e5def4d",
   "metadata": {},
   "outputs": [
    {
     "data": {
      "text/plain": [
       "dtype('int32')"
      ]
     },
     "execution_count": 5,
     "metadata": {},
     "output_type": "execute_result"
    }
   ],
   "source": [
    "a.dtype"
   ]
  },
  {
   "cell_type": "code",
   "execution_count": 6,
   "id": "452d41e2-7154-4389-9753-dbec586c9191",
   "metadata": {},
   "outputs": [
    {
     "data": {
      "text/plain": [
       "(3,)"
      ]
     },
     "execution_count": 6,
     "metadata": {},
     "output_type": "execute_result"
    }
   ],
   "source": [
    "a.shape"
   ]
  },
  {
   "cell_type": "code",
   "execution_count": null,
   "id": "88936b56-0824-4061-b1e9-df6302c709cb",
   "metadata": {},
   "outputs": [],
   "source": []
  },
  {
   "cell_type": "code",
   "execution_count": 7,
   "id": "2d82a1a5-e5a9-4381-9a94-871636aad7c9",
   "metadata": {},
   "outputs": [],
   "source": [
    "b = np.array([[1.3, 2.4],[0.3, 4.1]])"
   ]
  },
  {
   "cell_type": "code",
   "execution_count": 8,
   "id": "13773337-9ad8-475b-ab28-5eda4e6148ed",
   "metadata": {},
   "outputs": [
    {
     "data": {
      "text/plain": [
       "array([[1.3, 2.4],\n",
       "       [0.3, 4.1]])"
      ]
     },
     "execution_count": 8,
     "metadata": {},
     "output_type": "execute_result"
    }
   ],
   "source": [
    "b"
   ]
  },
  {
   "cell_type": "code",
   "execution_count": 9,
   "id": "29c21bc1-b928-4762-98b1-200a2eb7a0c1",
   "metadata": {},
   "outputs": [
    {
     "data": {
      "text/plain": [
       "dtype('float64')"
      ]
     },
     "execution_count": 9,
     "metadata": {},
     "output_type": "execute_result"
    }
   ],
   "source": [
    "b.dtype"
   ]
  },
  {
   "cell_type": "code",
   "execution_count": 10,
   "id": "f6d56682-2ae2-4ca6-8ab8-49c6521bacc6",
   "metadata": {},
   "outputs": [
    {
     "data": {
      "text/plain": [
       "(2, 2)"
      ]
     },
     "execution_count": 10,
     "metadata": {},
     "output_type": "execute_result"
    }
   ],
   "source": [
    "b.shape"
   ]
  },
  {
   "cell_type": "code",
   "execution_count": null,
   "id": "659f53b1-1ce9-4707-9684-0ce8395c26a5",
   "metadata": {},
   "outputs": [],
   "source": []
  },
  {
   "cell_type": "markdown",
   "id": "fa45e897-17e6-4f58-a726-d8331e8b37c3",
   "metadata": {},
   "source": [
    "### Create an Array"
   ]
  },
  {
   "cell_type": "code",
   "execution_count": 11,
   "id": "93da10b4-a61a-43a6-a64f-9372eba3e20f",
   "metadata": {},
   "outputs": [],
   "source": [
    "c = np.array([[1, 2, 3],[4, 5, 6]])"
   ]
  },
  {
   "cell_type": "code",
   "execution_count": 12,
   "id": "8e92b8f0-75c6-45f2-801e-b6ab43b5e03a",
   "metadata": {},
   "outputs": [
    {
     "data": {
      "text/plain": [
       "array([[1, 2, 3],\n",
       "       [4, 5, 6]])"
      ]
     },
     "execution_count": 12,
     "metadata": {},
     "output_type": "execute_result"
    }
   ],
   "source": [
    "c"
   ]
  },
  {
   "cell_type": "code",
   "execution_count": 13,
   "id": "6e269d82-8f9e-4195-bb89-639cf9b21ed0",
   "metadata": {},
   "outputs": [],
   "source": [
    "g = np.array([['a', 'b'],['c', 'd']])"
   ]
  },
  {
   "cell_type": "code",
   "execution_count": 14,
   "id": "ee8442e9-18ec-4cfa-845d-988e47c423dd",
   "metadata": {},
   "outputs": [
    {
     "data": {
      "text/plain": [
       "array([['a', 'b'],\n",
       "       ['c', 'd']], dtype='<U1')"
      ]
     },
     "execution_count": 14,
     "metadata": {},
     "output_type": "execute_result"
    }
   ],
   "source": [
    "g"
   ]
  },
  {
   "cell_type": "code",
   "execution_count": 15,
   "id": "4e09886b-f0df-40bc-9fd3-6726be9ab631",
   "metadata": {},
   "outputs": [],
   "source": [
    "# There are other bunch of data types that you can use in the array."
   ]
  },
  {
   "cell_type": "code",
   "execution_count": 16,
   "id": "ecee2bbb-894c-4621-b359-330906603b60",
   "metadata": {},
   "outputs": [],
   "source": [
    "# We can have complex numbers too!!"
   ]
  },
  {
   "cell_type": "code",
   "execution_count": 17,
   "id": "556e6f20-6a31-4a80-8259-9907e85f38d5",
   "metadata": {},
   "outputs": [],
   "source": [
    "f = np.array([[1, 2, 3],[4, 5, 6]], dtype=complex)"
   ]
  },
  {
   "cell_type": "code",
   "execution_count": 18,
   "id": "3e7636bc-de33-46b2-894b-7c5e35bc1781",
   "metadata": {},
   "outputs": [
    {
     "data": {
      "text/plain": [
       "array([[1.+0.j, 2.+0.j, 3.+0.j],\n",
       "       [4.+0.j, 5.+0.j, 6.+0.j]])"
      ]
     },
     "execution_count": 18,
     "metadata": {},
     "output_type": "execute_result"
    }
   ],
   "source": [
    "f"
   ]
  },
  {
   "cell_type": "code",
   "execution_count": null,
   "id": "7da6ace4-0ba3-4790-bcae-42e7ef2ed0ce",
   "metadata": {},
   "outputs": [],
   "source": []
  },
  {
   "cell_type": "markdown",
   "id": "dd2618c0-9bd1-46f9-90c1-cfd2fee379a4",
   "metadata": {},
   "source": [
    "###  Intrinsic Creation of an Array"
   ]
  },
  {
   "cell_type": "code",
   "execution_count": 19,
   "id": "f4f3eac1-0852-4ce1-8777-ab4666929960",
   "metadata": {},
   "outputs": [
    {
     "data": {
      "text/plain": [
       "array([[0., 0., 0.],\n",
       "       [0., 0., 0.],\n",
       "       [0., 0., 0.]])"
      ]
     },
     "execution_count": 19,
     "metadata": {},
     "output_type": "execute_result"
    }
   ],
   "source": [
    "np.zeros((3, 3))"
   ]
  },
  {
   "cell_type": "code",
   "execution_count": 20,
   "id": "86029f93-2b01-4c4b-ac4d-2a6e71ceca6d",
   "metadata": {},
   "outputs": [
    {
     "data": {
      "text/plain": [
       "array([[1., 1., 1., 1., 1.],\n",
       "       [1., 1., 1., 1., 1.],\n",
       "       [1., 1., 1., 1., 1.],\n",
       "       [1., 1., 1., 1., 1.],\n",
       "       [1., 1., 1., 1., 1.]])"
      ]
     },
     "execution_count": 20,
     "metadata": {},
     "output_type": "execute_result"
    }
   ],
   "source": [
    "np.ones((5, 5))"
   ]
  },
  {
   "cell_type": "code",
   "execution_count": null,
   "id": "3b1d7d51-e55a-42d8-b3c2-c0045d99cd31",
   "metadata": {},
   "outputs": [],
   "source": []
  },
  {
   "cell_type": "code",
   "execution_count": 21,
   "id": "a1c8b45d-f937-4b40-8bc0-c130e239c9ac",
   "metadata": {},
   "outputs": [
    {
     "data": {
      "text/plain": [
       "array([0, 1, 2, 3, 4, 5, 6, 7, 8, 9])"
      ]
     },
     "execution_count": 21,
     "metadata": {},
     "output_type": "execute_result"
    }
   ],
   "source": [
    "np.arange(0, 10)"
   ]
  },
  {
   "cell_type": "code",
   "execution_count": 22,
   "id": "a995d287-b092-4fb4-a9a3-491447efe867",
   "metadata": {},
   "outputs": [
    {
     "data": {
      "text/plain": [
       "array([20, 21, 22, 23, 24, 25, 26, 27, 28, 29, 30, 31, 32, 33, 34, 35, 36,\n",
       "       37, 38, 39, 40, 41, 42, 43, 44, 45, 46, 47, 48, 49, 50, 51, 52, 53,\n",
       "       54, 55, 56, 57, 58, 59, 60, 61, 62, 63, 64, 65, 66, 67, 68, 69, 70,\n",
       "       71, 72, 73, 74, 75, 76, 77, 78, 79, 80, 81, 82, 83, 84, 85, 86, 87,\n",
       "       88, 89, 90, 91, 92, 93, 94, 95, 96, 97, 98, 99])"
      ]
     },
     "execution_count": 22,
     "metadata": {},
     "output_type": "execute_result"
    }
   ],
   "source": [
    "np.arange(20,100)"
   ]
  },
  {
   "cell_type": "code",
   "execution_count": null,
   "id": "06a3fa50-92e8-4dc0-9a68-0d7a4ba4a627",
   "metadata": {},
   "outputs": [],
   "source": []
  },
  {
   "cell_type": "code",
   "execution_count": 23,
   "id": "a252757c-a8d2-45f3-ad13-72545fb53e5b",
   "metadata": {},
   "outputs": [
    {
     "data": {
      "text/plain": [
       "array([0, 2, 4, 6, 8])"
      ]
     },
     "execution_count": 23,
     "metadata": {},
     "output_type": "execute_result"
    }
   ],
   "source": [
    "np.arange(0, 10, 2)"
   ]
  },
  {
   "cell_type": "code",
   "execution_count": null,
   "id": "f64cafbb-99ca-45d8-b8d5-2f798e70e40b",
   "metadata": {},
   "outputs": [],
   "source": []
  },
  {
   "cell_type": "code",
   "execution_count": 24,
   "id": "b7f1923a-f22e-44fd-ae59-ed633de24d62",
   "metadata": {},
   "outputs": [
    {
     "data": {
      "text/plain": [
       "array([[ 0,  1,  2,  3],\n",
       "       [ 4,  5,  6,  7],\n",
       "       [ 8,  9, 10, 11]])"
      ]
     },
     "execution_count": 24,
     "metadata": {},
     "output_type": "execute_result"
    }
   ],
   "source": [
    "np.arange(0, 12).reshape(3, 4)"
   ]
  },
  {
   "cell_type": "code",
   "execution_count": null,
   "id": "577d1743-ba18-433d-8aa2-040b6d69301c",
   "metadata": {},
   "outputs": [],
   "source": []
  },
  {
   "cell_type": "code",
   "execution_count": 25,
   "id": "1558539a-2e74-4969-81eb-dbb026e445d6",
   "metadata": {},
   "outputs": [
    {
     "data": {
      "text/plain": [
       "array([ 0. ,  2.5,  5. ,  7.5, 10. ])"
      ]
     },
     "execution_count": 25,
     "metadata": {},
     "output_type": "execute_result"
    }
   ],
   "source": [
    "# We can press shift+tab together keeping the cursor inside the method to get the information about the method. \n",
    "np.linspace(0, 10, 5)"
   ]
  },
  {
   "cell_type": "code",
   "execution_count": null,
   "id": "44206fb4-a097-4d85-b8c3-fc5040f675d3",
   "metadata": {},
   "outputs": [],
   "source": []
  },
  {
   "cell_type": "code",
   "execution_count": 26,
   "id": "27435bd0-0462-48a9-9aa9-1f562ab8dc9f",
   "metadata": {},
   "outputs": [
    {
     "data": {
      "text/plain": [
       "array([0.14144862, 0.12136176, 0.24835748])"
      ]
     },
     "execution_count": 26,
     "metadata": {},
     "output_type": "execute_result"
    }
   ],
   "source": [
    " np.random.random(3)"
   ]
  },
  {
   "cell_type": "code",
   "execution_count": null,
   "id": "ba9204e4-bc06-4ece-a7c9-f57f045c3fb2",
   "metadata": {},
   "outputs": [],
   "source": []
  },
  {
   "cell_type": "markdown",
   "id": "4d444584-a73f-46d9-9eac-208982306f10",
   "metadata": {},
   "source": [
    "## Basic Operation\r\n"
   ]
  },
  {
   "cell_type": "markdown",
   "id": "20365d58-ca34-4738-a6cd-c3864f4150f6",
   "metadata": {},
   "source": [
    "### Arithmetic Operators"
   ]
  },
  {
   "cell_type": "code",
   "execution_count": 27,
   "id": "e54c71c2-c32a-4bb0-8191-85cc7e66e2f5",
   "metadata": {},
   "outputs": [],
   "source": [
    "a = np.arange(4)"
   ]
  },
  {
   "cell_type": "code",
   "execution_count": 28,
   "id": "f7256990-b31e-4a77-8e17-71a819d8e78e",
   "metadata": {},
   "outputs": [
    {
     "data": {
      "text/plain": [
       "array([0, 1, 2, 3])"
      ]
     },
     "execution_count": 28,
     "metadata": {},
     "output_type": "execute_result"
    }
   ],
   "source": [
    "a"
   ]
  },
  {
   "cell_type": "code",
   "execution_count": null,
   "id": "748b6516-0dd1-46a2-bd3b-44998ce58989",
   "metadata": {},
   "outputs": [],
   "source": []
  },
  {
   "cell_type": "code",
   "execution_count": 29,
   "id": "fc1c6b56-5358-4799-a19e-ac8b3cd5667e",
   "metadata": {},
   "outputs": [
    {
     "data": {
      "text/plain": [
       "array([4, 5, 6, 7])"
      ]
     },
     "execution_count": 29,
     "metadata": {},
     "output_type": "execute_result"
    }
   ],
   "source": [
    "a+4"
   ]
  },
  {
   "cell_type": "code",
   "execution_count": 30,
   "id": "4e0c2b67-ceac-4410-a8ac-555c72b9363d",
   "metadata": {},
   "outputs": [
    {
     "data": {
      "text/plain": [
       "array([0, 2, 4, 6])"
      ]
     },
     "execution_count": 30,
     "metadata": {},
     "output_type": "execute_result"
    }
   ],
   "source": [
    "a*2"
   ]
  },
  {
   "cell_type": "code",
   "execution_count": null,
   "id": "99afc79a-7b7e-46a0-8ddb-fccd92e52fa4",
   "metadata": {},
   "outputs": [],
   "source": []
  },
  {
   "cell_type": "code",
   "execution_count": 31,
   "id": "abf09e60-9654-4527-b3bf-7f75af1ad813",
   "metadata": {},
   "outputs": [],
   "source": [
    "b = np.arange(4,8)"
   ]
  },
  {
   "cell_type": "code",
   "execution_count": 32,
   "id": "e4804c2f-8b50-4221-862c-e9739dd6299c",
   "metadata": {},
   "outputs": [
    {
     "data": {
      "text/plain": [
       "array([4, 5, 6, 7])"
      ]
     },
     "execution_count": 32,
     "metadata": {},
     "output_type": "execute_result"
    }
   ],
   "source": [
    "b"
   ]
  },
  {
   "cell_type": "code",
   "execution_count": null,
   "id": "67441bd7-c4be-41d0-9778-1054aa5a464e",
   "metadata": {},
   "outputs": [],
   "source": []
  },
  {
   "cell_type": "code",
   "execution_count": 33,
   "id": "5ce8923d-96f0-42c6-a633-08600fb3420b",
   "metadata": {},
   "outputs": [
    {
     "data": {
      "text/plain": [
       "array([0, 1, 2, 3])"
      ]
     },
     "execution_count": 33,
     "metadata": {},
     "output_type": "execute_result"
    }
   ],
   "source": [
    "a"
   ]
  },
  {
   "cell_type": "code",
   "execution_count": 34,
   "id": "3f82f73e-c410-4071-8b7c-bc5a3e1ed1d6",
   "metadata": {},
   "outputs": [
    {
     "data": {
      "text/plain": [
       "array([4, 5, 6, 7])"
      ]
     },
     "execution_count": 34,
     "metadata": {},
     "output_type": "execute_result"
    }
   ],
   "source": [
    "b"
   ]
  },
  {
   "cell_type": "code",
   "execution_count": null,
   "id": "594ce05d-5793-4939-8407-063e075e2215",
   "metadata": {},
   "outputs": [],
   "source": []
  },
  {
   "cell_type": "code",
   "execution_count": 35,
   "id": "61335705-3b4f-4c42-b2b5-bcd0ce6ba69e",
   "metadata": {},
   "outputs": [
    {
     "data": {
      "text/plain": [
       "array([ 4,  6,  8, 10])"
      ]
     },
     "execution_count": 35,
     "metadata": {},
     "output_type": "execute_result"
    }
   ],
   "source": [
    "a+b"
   ]
  },
  {
   "cell_type": "code",
   "execution_count": 36,
   "id": "6c6d8a01-ab91-48da-8a9b-c3499400aa9a",
   "metadata": {},
   "outputs": [
    {
     "data": {
      "text/plain": [
       "array([-4, -4, -4, -4])"
      ]
     },
     "execution_count": 36,
     "metadata": {},
     "output_type": "execute_result"
    }
   ],
   "source": [
    "a-b"
   ]
  },
  {
   "cell_type": "code",
   "execution_count": 37,
   "id": "764a539a-5fd1-4b81-8e45-c2ae58527a32",
   "metadata": {},
   "outputs": [
    {
     "data": {
      "text/plain": [
       "array([ 0,  5, 12, 21])"
      ]
     },
     "execution_count": 37,
     "metadata": {},
     "output_type": "execute_result"
    }
   ],
   "source": [
    "a*b"
   ]
  },
  {
   "cell_type": "code",
   "execution_count": null,
   "id": "80a123a2-1b82-4d13-932e-17dd5365b63f",
   "metadata": {},
   "outputs": [],
   "source": []
  },
  {
   "cell_type": "code",
   "execution_count": null,
   "id": "34523359-7fbe-4d7c-93d3-d0d363d5a465",
   "metadata": {},
   "outputs": [],
   "source": []
  },
  {
   "cell_type": "markdown",
   "id": "52e0be9c-b673-49aa-b7a2-7d857b84e5b9",
   "metadata": {},
   "source": [
    "### The Matrix Product"
   ]
  },
  {
   "cell_type": "code",
   "execution_count": 38,
   "id": "04d864ee-5e4a-4402-8c9d-84a0b6faa287",
   "metadata": {},
   "outputs": [],
   "source": [
    "A = np.arange(0, 9).reshape(3, 3)"
   ]
  },
  {
   "cell_type": "code",
   "execution_count": 39,
   "id": "4b4cae15-01ef-4c8b-ad85-b726c8964c78",
   "metadata": {},
   "outputs": [
    {
     "data": {
      "text/plain": [
       "array([[0, 1, 2],\n",
       "       [3, 4, 5],\n",
       "       [6, 7, 8]])"
      ]
     },
     "execution_count": 39,
     "metadata": {},
     "output_type": "execute_result"
    }
   ],
   "source": [
    "A"
   ]
  },
  {
   "cell_type": "code",
   "execution_count": 40,
   "id": "0f2894c3-382f-4cfe-8616-9be215c2aa97",
   "metadata": {},
   "outputs": [],
   "source": [
    "B = np.ones((3, 3))"
   ]
  },
  {
   "cell_type": "code",
   "execution_count": 41,
   "id": "0ec25063-e66c-4998-8a8b-f9d55c814289",
   "metadata": {},
   "outputs": [
    {
     "data": {
      "text/plain": [
       "array([[1., 1., 1.],\n",
       "       [1., 1., 1.],\n",
       "       [1., 1., 1.]])"
      ]
     },
     "execution_count": 41,
     "metadata": {},
     "output_type": "execute_result"
    }
   ],
   "source": [
    "B"
   ]
  },
  {
   "cell_type": "code",
   "execution_count": 42,
   "id": "38149ee5-fc44-4c3d-8c44-45c3b163474d",
   "metadata": {},
   "outputs": [
    {
     "data": {
      "text/plain": [
       "array([[0., 1., 2.],\n",
       "       [3., 4., 5.],\n",
       "       [6., 7., 8.]])"
      ]
     },
     "execution_count": 42,
     "metadata": {},
     "output_type": "execute_result"
    }
   ],
   "source": [
    "A*B"
   ]
  },
  {
   "cell_type": "code",
   "execution_count": null,
   "id": "44ec39d4-cfd4-4564-b635-4e86dd2929fb",
   "metadata": {},
   "outputs": [],
   "source": []
  },
  {
   "cell_type": "code",
   "execution_count": 43,
   "id": "82732e95-9ffe-4600-a1db-d8ddf9373f0a",
   "metadata": {},
   "outputs": [
    {
     "data": {
      "text/plain": [
       "array([[ 3.,  3.,  3.],\n",
       "       [12., 12., 12.],\n",
       "       [21., 21., 21.]])"
      ]
     },
     "execution_count": 43,
     "metadata": {},
     "output_type": "execute_result"
    }
   ],
   "source": [
    "np.dot(A,B)"
   ]
  },
  {
   "cell_type": "code",
   "execution_count": 44,
   "id": "ec652eee-3c2e-4000-baea-2373a3dc6f6f",
   "metadata": {},
   "outputs": [
    {
     "data": {
      "text/plain": [
       "3.0"
      ]
     },
     "execution_count": 44,
     "metadata": {},
     "output_type": "execute_result"
    }
   ],
   "source": [
    "# The first element here is the dot product of the first row in array A and first column of array B\n",
    "(0. * 1) + (1. * 1) + (2. * 1)"
   ]
  },
  {
   "cell_type": "code",
   "execution_count": 45,
   "id": "3f462b72-a421-40f1-8074-56cb96dda543",
   "metadata": {},
   "outputs": [
    {
     "data": {
      "text/plain": [
       "12.0"
      ]
     },
     "execution_count": 45,
     "metadata": {},
     "output_type": "execute_result"
    }
   ],
   "source": [
    "# The 2nd row and 1st element i.e 12 is the result of 2nd row of A and 1st column of B\n",
    "(3. * 1) + (4. * 1) + (5. * 1)"
   ]
  },
  {
   "cell_type": "code",
   "execution_count": null,
   "id": "35ea9f99-6cd8-4164-ae56-322f5c202198",
   "metadata": {},
   "outputs": [],
   "source": []
  },
  {
   "cell_type": "code",
   "execution_count": null,
   "id": "ae1fc50f-cbf8-450a-91cb-8d0617eb89b7",
   "metadata": {},
   "outputs": [],
   "source": []
  },
  {
   "cell_type": "markdown",
   "id": "643890d4-6913-4d81-b178-e09067f1836a",
   "metadata": {},
   "source": [
    "### Increment and Decrement Operators"
   ]
  },
  {
   "cell_type": "code",
   "execution_count": 46,
   "id": "8b027d96-4af0-4eec-bb3e-0160135def62",
   "metadata": {},
   "outputs": [
    {
     "data": {
      "text/plain": [
       "array([0, 1, 2, 3])"
      ]
     },
     "execution_count": 46,
     "metadata": {},
     "output_type": "execute_result"
    }
   ],
   "source": [
    "a"
   ]
  },
  {
   "cell_type": "code",
   "execution_count": 47,
   "id": "5ab29515-2c7a-465b-90ca-ae4f5a4c20db",
   "metadata": {},
   "outputs": [],
   "source": [
    "a += 1"
   ]
  },
  {
   "cell_type": "code",
   "execution_count": 48,
   "id": "41a1f8d8-8116-4517-91a1-2134e7afe530",
   "metadata": {},
   "outputs": [
    {
     "data": {
      "text/plain": [
       "array([1, 2, 3, 4])"
      ]
     },
     "execution_count": 48,
     "metadata": {},
     "output_type": "execute_result"
    }
   ],
   "source": [
    "a"
   ]
  },
  {
   "cell_type": "code",
   "execution_count": null,
   "id": "132e17b6-4642-4d3d-a9ff-6cabe6a0afb6",
   "metadata": {},
   "outputs": [],
   "source": []
  },
  {
   "cell_type": "code",
   "execution_count": 49,
   "id": "3482c007-6602-4e50-90ad-bc262f2ca78f",
   "metadata": {},
   "outputs": [],
   "source": [
    "a -= 1"
   ]
  },
  {
   "cell_type": "code",
   "execution_count": 50,
   "id": "fbcff3df-ce2e-47a7-b761-089b8ddfa0b1",
   "metadata": {},
   "outputs": [
    {
     "data": {
      "text/plain": [
       "array([0, 1, 2, 3])"
      ]
     },
     "execution_count": 50,
     "metadata": {},
     "output_type": "execute_result"
    }
   ],
   "source": [
    "a"
   ]
  },
  {
   "cell_type": "code",
   "execution_count": null,
   "id": "a43e3a06-bbfc-4ae2-9506-834391ac3a3a",
   "metadata": {},
   "outputs": [],
   "source": []
  },
  {
   "cell_type": "markdown",
   "id": "18d14238-115f-46c8-a36e-e0f0c9207317",
   "metadata": {},
   "source": [
    "### Universal Functions "
   ]
  },
  {
   "cell_type": "code",
   "execution_count": 51,
   "id": "b17f1261-6f33-430b-93c6-f912cf31436e",
   "metadata": {},
   "outputs": [],
   "source": [
    "# A universal function, generally called ufunc, is a function operating of an array in an element-by-element \n",
    "# fashion. This means that it is a function that acts individually on each single element of the input array to \n",
    "# generate a corresponding result in a new output array. "
   ]
  },
  {
   "cell_type": "code",
   "execution_count": 52,
   "id": "8165f2df-f2d0-4286-89b7-25c5e7ce6157",
   "metadata": {},
   "outputs": [],
   "source": [
    "a = np.arange(1,5)"
   ]
  },
  {
   "cell_type": "code",
   "execution_count": 53,
   "id": "efcba5f8-ecb1-4ccb-b3ff-c97929b27d88",
   "metadata": {},
   "outputs": [
    {
     "data": {
      "text/plain": [
       "array([1, 2, 3, 4])"
      ]
     },
     "execution_count": 53,
     "metadata": {},
     "output_type": "execute_result"
    }
   ],
   "source": [
    "a"
   ]
  },
  {
   "cell_type": "code",
   "execution_count": 54,
   "id": "d1b8c1ce-9b8f-4c22-a4ed-f0b8ee1b3efe",
   "metadata": {},
   "outputs": [
    {
     "data": {
      "text/plain": [
       "array([1.        , 1.41421356, 1.73205081, 2.        ])"
      ]
     },
     "execution_count": 54,
     "metadata": {},
     "output_type": "execute_result"
    }
   ],
   "source": [
    "np.sqrt(a)"
   ]
  },
  {
   "cell_type": "code",
   "execution_count": 55,
   "id": "db5ce16a-2bb5-4ba2-8a3f-70dc780a3c8f",
   "metadata": {},
   "outputs": [
    {
     "data": {
      "text/plain": [
       "array([1, 2, 3, 4])"
      ]
     },
     "execution_count": 55,
     "metadata": {},
     "output_type": "execute_result"
    }
   ],
   "source": [
    "a"
   ]
  },
  {
   "cell_type": "code",
   "execution_count": 56,
   "id": "1945f023-109c-4f0c-b57c-a927690c1e48",
   "metadata": {},
   "outputs": [],
   "source": [
    "# This is still not modified, all these methods returns a new array"
   ]
  },
  {
   "cell_type": "code",
   "execution_count": 57,
   "id": "3ac45b91-6da6-4660-9c21-1eeadf83d88b",
   "metadata": {},
   "outputs": [
    {
     "data": {
      "text/plain": [
       "array([0.        , 0.69314718, 1.09861229, 1.38629436])"
      ]
     },
     "execution_count": 57,
     "metadata": {},
     "output_type": "execute_result"
    }
   ],
   "source": [
    "np.log(a)"
   ]
  },
  {
   "cell_type": "code",
   "execution_count": 58,
   "id": "a165bd05-38b8-4cfb-8e14-29c685b38296",
   "metadata": {},
   "outputs": [
    {
     "data": {
      "text/plain": [
       "array([ 0.84147098,  0.90929743,  0.14112001, -0.7568025 ])"
      ]
     },
     "execution_count": 58,
     "metadata": {},
     "output_type": "execute_result"
    }
   ],
   "source": [
    "np.sin(a)"
   ]
  },
  {
   "cell_type": "code",
   "execution_count": null,
   "id": "aa3806ec-ae92-4b60-b54a-0d51fb423751",
   "metadata": {},
   "outputs": [],
   "source": []
  },
  {
   "cell_type": "markdown",
   "id": "ad7469aa-ce3a-4b4d-ac99-8f6e735b2be7",
   "metadata": {},
   "source": [
    "### Aggregate Functions"
   ]
  },
  {
   "cell_type": "code",
   "execution_count": 59,
   "id": "07930852-b71d-46e2-be21-b1d105d2c0a8",
   "metadata": {},
   "outputs": [
    {
     "data": {
      "text/plain": [
       "10"
      ]
     },
     "execution_count": 59,
     "metadata": {},
     "output_type": "execute_result"
    }
   ],
   "source": [
    "a.sum()"
   ]
  },
  {
   "cell_type": "code",
   "execution_count": 60,
   "id": "9aad1a8d-3eee-4417-a0f4-7f6ef51534f8",
   "metadata": {},
   "outputs": [
    {
     "data": {
      "text/plain": [
       "1"
      ]
     },
     "execution_count": 60,
     "metadata": {},
     "output_type": "execute_result"
    }
   ],
   "source": [
    "a.min()"
   ]
  },
  {
   "cell_type": "code",
   "execution_count": 61,
   "id": "25514f81-86bf-4ec1-9cbc-3ec59d920a72",
   "metadata": {},
   "outputs": [
    {
     "data": {
      "text/plain": [
       "4"
      ]
     },
     "execution_count": 61,
     "metadata": {},
     "output_type": "execute_result"
    }
   ],
   "source": [
    "a.max()"
   ]
  },
  {
   "cell_type": "code",
   "execution_count": 62,
   "id": "621bbdb5-8d08-49bc-be67-4cc8dd6299cb",
   "metadata": {},
   "outputs": [
    {
     "data": {
      "text/plain": [
       "2.5"
      ]
     },
     "execution_count": 62,
     "metadata": {},
     "output_type": "execute_result"
    }
   ],
   "source": [
    "a.mean()"
   ]
  },
  {
   "cell_type": "code",
   "execution_count": 63,
   "id": "535a9a8c-5526-47f6-92fc-d89e0400cb5c",
   "metadata": {},
   "outputs": [
    {
     "data": {
      "text/plain": [
       "1.118033988749895"
      ]
     },
     "execution_count": 63,
     "metadata": {},
     "output_type": "execute_result"
    }
   ],
   "source": [
    "a.std()"
   ]
  },
  {
   "cell_type": "code",
   "execution_count": null,
   "id": "e20318d4-75a7-4a46-8496-c47b37076648",
   "metadata": {},
   "outputs": [],
   "source": []
  },
  {
   "cell_type": "markdown",
   "id": "73de0ac5-180e-4b31-a58c-235518e6c1d5",
   "metadata": {},
   "source": [
    "##  Indexing, Slicing, and Iterating"
   ]
  },
  {
   "cell_type": "markdown",
   "id": "9b99d58c-f9b0-436d-84e5-0db5e895679b",
   "metadata": {},
   "source": [
    "### Indexing"
   ]
  },
  {
   "cell_type": "code",
   "execution_count": 64,
   "id": "88e10217-00ab-4c01-b71b-c9d36f6c1619",
   "metadata": {},
   "outputs": [],
   "source": [
    "a = np.arange(10, 16)"
   ]
  },
  {
   "cell_type": "code",
   "execution_count": 65,
   "id": "2fa60481-8103-4619-8ba4-2eb270bf54f7",
   "metadata": {},
   "outputs": [
    {
     "data": {
      "text/plain": [
       "array([10, 11, 12, 13, 14, 15])"
      ]
     },
     "execution_count": 65,
     "metadata": {},
     "output_type": "execute_result"
    }
   ],
   "source": [
    "a"
   ]
  },
  {
   "cell_type": "code",
   "execution_count": 66,
   "id": "7e055ed4-ccdc-46c7-9b86-97da048b4739",
   "metadata": {},
   "outputs": [
    {
     "data": {
      "text/plain": [
       "12"
      ]
     },
     "execution_count": 66,
     "metadata": {},
     "output_type": "execute_result"
    }
   ],
   "source": [
    "# If I want to access the number 12 then we have to access it like this:\n",
    "a[2]"
   ]
  },
  {
   "cell_type": "code",
   "execution_count": 67,
   "id": "8cac2136-e144-4b29-bc26-2def39d2a037",
   "metadata": {},
   "outputs": [],
   "source": [
    "# As we know that the index starts from 0, so we have to use 2 to access the element 12 "
   ]
  },
  {
   "cell_type": "code",
   "execution_count": 68,
   "id": "db44d4ae-b018-486d-9002-8847bd83e5c6",
   "metadata": {},
   "outputs": [
    {
     "data": {
      "text/plain": [
       "15"
      ]
     },
     "execution_count": 68,
     "metadata": {},
     "output_type": "execute_result"
    }
   ],
   "source": [
    "# Python also supports reverse indexing where you can give negative values and access it from the last\n",
    "a[-1]"
   ]
  },
  {
   "cell_type": "code",
   "execution_count": 69,
   "id": "e9eb1b9c-988c-4d29-aaa1-7ce848ce5120",
   "metadata": {},
   "outputs": [
    {
     "data": {
      "text/plain": [
       "array([10, 11, 12])"
      ]
     },
     "execution_count": 69,
     "metadata": {},
     "output_type": "execute_result"
    }
   ],
   "source": [
    "# To select multiple elements\n",
    "a[[0,1,2]]"
   ]
  },
  {
   "cell_type": "code",
   "execution_count": null,
   "id": "01b83461-ee04-4814-b958-ea6325d555f5",
   "metadata": {},
   "outputs": [],
   "source": []
  },
  {
   "cell_type": "code",
   "execution_count": 70,
   "id": "9cc7f5ba-be3a-45d0-af97-abd4048c7000",
   "metadata": {},
   "outputs": [],
   "source": [
    "A = np.arange(10, 19).reshape((3, 3))"
   ]
  },
  {
   "cell_type": "code",
   "execution_count": 71,
   "id": "2aab913d-012a-4249-b1c2-0fb18f5d7b80",
   "metadata": {},
   "outputs": [
    {
     "data": {
      "text/plain": [
       "array([[10, 11, 12],\n",
       "       [13, 14, 15],\n",
       "       [16, 17, 18]])"
      ]
     },
     "execution_count": 71,
     "metadata": {},
     "output_type": "execute_result"
    }
   ],
   "source": [
    "A"
   ]
  },
  {
   "cell_type": "code",
   "execution_count": 72,
   "id": "6ee6e3e7-f9b7-40e2-b699-e9078edc4e25",
   "metadata": {},
   "outputs": [
    {
     "data": {
      "text/plain": [
       "15"
      ]
     },
     "execution_count": 72,
     "metadata": {},
     "output_type": "execute_result"
    }
   ],
   "source": [
    "A[1,2]"
   ]
  },
  {
   "cell_type": "code",
   "execution_count": 73,
   "id": "52c02da5-4357-491d-bc55-f194746ea9c2",
   "metadata": {},
   "outputs": [
    {
     "data": {
      "text/plain": [
       "11"
      ]
     },
     "execution_count": 73,
     "metadata": {},
     "output_type": "execute_result"
    }
   ],
   "source": [
    "A[0][1]"
   ]
  },
  {
   "cell_type": "code",
   "execution_count": null,
   "id": "06b9e897-940d-46e9-969f-bdae89ea1d5b",
   "metadata": {},
   "outputs": [],
   "source": []
  },
  {
   "cell_type": "markdown",
   "id": "ce7a8e47-b61d-476c-a5bf-3a9190b269e5",
   "metadata": {},
   "source": [
    "### Slicing"
   ]
  },
  {
   "cell_type": "code",
   "execution_count": 74,
   "id": "271598e9-6242-473a-9c72-15de4f4b4f9c",
   "metadata": {},
   "outputs": [],
   "source": [
    "a = np.arange(10, 16)"
   ]
  },
  {
   "cell_type": "code",
   "execution_count": 75,
   "id": "3eb343c6-0ba8-4c1a-9850-db01ae65b9e5",
   "metadata": {},
   "outputs": [
    {
     "data": {
      "text/plain": [
       "array([10, 11, 12, 13, 14, 15])"
      ]
     },
     "execution_count": 75,
     "metadata": {},
     "output_type": "execute_result"
    }
   ],
   "source": [
    "a"
   ]
  },
  {
   "cell_type": "code",
   "execution_count": 76,
   "id": "6dd91b31-0d67-4420-ba45-bb0b412b61fe",
   "metadata": {},
   "outputs": [
    {
     "data": {
      "text/plain": [
       "array([11, 12, 13, 14])"
      ]
     },
     "execution_count": 76,
     "metadata": {},
     "output_type": "execute_result"
    }
   ],
   "source": [
    "a[1:5]"
   ]
  },
  {
   "cell_type": "code",
   "execution_count": 77,
   "id": "f55f92f5-c846-4767-bf5a-930060d0a20d",
   "metadata": {},
   "outputs": [
    {
     "data": {
      "text/plain": [
       "array([11, 13])"
      ]
     },
     "execution_count": 77,
     "metadata": {},
     "output_type": "execute_result"
    }
   ],
   "source": [
    "a[1:5:2]"
   ]
  },
  {
   "cell_type": "code",
   "execution_count": 78,
   "id": "66c71cac-6de9-4bee-bf51-260dac0f3902",
   "metadata": {},
   "outputs": [
    {
     "data": {
      "text/plain": [
       "array([10, 12, 14])"
      ]
     },
     "execution_count": 78,
     "metadata": {},
     "output_type": "execute_result"
    }
   ],
   "source": [
    "a[::2]"
   ]
  },
  {
   "cell_type": "code",
   "execution_count": null,
   "id": "0de8e6f8-fce3-45fc-8564-944ecb3dc2c2",
   "metadata": {},
   "outputs": [],
   "source": []
  },
  {
   "cell_type": "code",
   "execution_count": 79,
   "id": "206f07ea-2ec4-4cd8-a30f-f32b6e3b83c0",
   "metadata": {},
   "outputs": [],
   "source": [
    "A = np.arange(10, 19).reshape((3, 3))"
   ]
  },
  {
   "cell_type": "code",
   "execution_count": 80,
   "id": "7a1a3efc-8e39-47c3-9078-80b0d1a75ecc",
   "metadata": {},
   "outputs": [
    {
     "data": {
      "text/plain": [
       "array([[10, 11, 12],\n",
       "       [13, 14, 15],\n",
       "       [16, 17, 18]])"
      ]
     },
     "execution_count": 80,
     "metadata": {},
     "output_type": "execute_result"
    }
   ],
   "source": [
    "A"
   ]
  },
  {
   "cell_type": "code",
   "execution_count": 81,
   "id": "87538511-3e20-4fcf-9a8c-5d9ce581399e",
   "metadata": {},
   "outputs": [
    {
     "data": {
      "text/plain": [
       "array([10, 11, 12])"
      ]
     },
     "execution_count": 81,
     "metadata": {},
     "output_type": "execute_result"
    }
   ],
   "source": [
    "# This will give only the values of first row in all the columns\n",
    "A[0,:]"
   ]
  },
  {
   "cell_type": "code",
   "execution_count": 82,
   "id": "0563fde5-e9ce-4b51-aacd-6d3e5d7925ac",
   "metadata": {},
   "outputs": [
    {
     "data": {
      "text/plain": [
       "array([10, 13, 16])"
      ]
     },
     "execution_count": 82,
     "metadata": {},
     "output_type": "execute_result"
    }
   ],
   "source": [
    "# This will give only the values of all the rows in first column\n",
    "A[:,0]"
   ]
  },
  {
   "cell_type": "code",
   "execution_count": null,
   "id": "1e6e0d7e-9316-4b05-9fcd-7c2d6b212331",
   "metadata": {},
   "outputs": [],
   "source": []
  },
  {
   "cell_type": "markdown",
   "id": "e97b6a33-d811-49eb-af91-966faa9287f9",
   "metadata": {},
   "source": [
    "### Iterating an array"
   ]
  },
  {
   "cell_type": "code",
   "execution_count": 83,
   "id": "bcfb11d2-2b09-4689-955d-11d86875e363",
   "metadata": {},
   "outputs": [
    {
     "name": "stdout",
     "output_type": "stream",
     "text": [
      "10\n",
      "11\n",
      "12\n",
      "13\n",
      "14\n",
      "15\n"
     ]
    }
   ],
   "source": [
    "for i in a:\n",
    "    print(i)"
   ]
  },
  {
   "cell_type": "code",
   "execution_count": 84,
   "id": "e947eb86-de27-4859-b5b3-32f6c2e2d8d1",
   "metadata": {},
   "outputs": [
    {
     "name": "stdout",
     "output_type": "stream",
     "text": [
      "[10 11 12]\n",
      "[13 14 15]\n",
      "[16 17 18]\n"
     ]
    }
   ],
   "source": [
    "for i in A:\n",
    "    print(i)"
   ]
  },
  {
   "cell_type": "code",
   "execution_count": 85,
   "id": "a0a10534-51ff-461f-9451-19a6684e7a66",
   "metadata": {},
   "outputs": [
    {
     "name": "stdout",
     "output_type": "stream",
     "text": [
      "10\n",
      "11\n",
      "12\n",
      "13\n",
      "14\n",
      "15\n",
      "16\n",
      "17\n",
      "18\n"
     ]
    }
   ],
   "source": [
    "for i in A.flat:\n",
    "    print(i)"
   ]
  },
  {
   "cell_type": "code",
   "execution_count": null,
   "id": "5adacee2-6bf4-4e25-9dad-49b993565d90",
   "metadata": {},
   "outputs": [],
   "source": []
  },
  {
   "cell_type": "code",
   "execution_count": null,
   "id": "93388788-9784-43d2-b143-a05c34e462a4",
   "metadata": {},
   "outputs": [],
   "source": []
  },
  {
   "cell_type": "code",
   "execution_count": 86,
   "id": "937108d3-ea92-4793-84cf-277c028a15f5",
   "metadata": {},
   "outputs": [],
   "source": [
    "A = np.random.random((4, 4))"
   ]
  },
  {
   "cell_type": "code",
   "execution_count": 87,
   "id": "6fbe0818-c2c1-435b-9f6c-c972cb29195f",
   "metadata": {},
   "outputs": [
    {
     "data": {
      "text/plain": [
       "array([[0.83663117, 0.7081079 , 0.07204266, 0.44829847],\n",
       "       [0.69449068, 0.36605539, 0.10600484, 0.58781134],\n",
       "       [0.52161681, 0.55466239, 0.01581549, 0.95162423],\n",
       "       [0.00582876, 0.82683125, 0.20681589, 0.05581117]])"
      ]
     },
     "execution_count": 87,
     "metadata": {},
     "output_type": "execute_result"
    }
   ],
   "source": [
    "A"
   ]
  },
  {
   "cell_type": "code",
   "execution_count": 88,
   "id": "6fa6d872-8716-43c7-ba18-324128e6e792",
   "metadata": {},
   "outputs": [
    {
     "data": {
      "text/plain": [
       "array([[False, False,  True,  True],\n",
       "       [False,  True,  True, False],\n",
       "       [False, False,  True, False],\n",
       "       [ True, False,  True,  True]])"
      ]
     },
     "execution_count": 88,
     "metadata": {},
     "output_type": "execute_result"
    }
   ],
   "source": [
    "A < 0.5"
   ]
  },
  {
   "cell_type": "code",
   "execution_count": 89,
   "id": "6cfa5942-455d-4352-9132-54fe348c4fbf",
   "metadata": {},
   "outputs": [
    {
     "data": {
      "text/plain": [
       "array([0.07204266, 0.44829847, 0.36605539, 0.10600484, 0.01581549,\n",
       "       0.00582876, 0.20681589, 0.05581117])"
      ]
     },
     "execution_count": 89,
     "metadata": {},
     "output_type": "execute_result"
    }
   ],
   "source": [
    "# This will filter out all the values based on the condition\n",
    "A[A < 0.5]"
   ]
  },
  {
   "cell_type": "code",
   "execution_count": null,
   "id": "40016628-f26e-42dd-bc00-e09018d98a32",
   "metadata": {},
   "outputs": [],
   "source": []
  },
  {
   "cell_type": "code",
   "execution_count": 90,
   "id": "7d27c212-c884-4f35-bd38-29c490f5d297",
   "metadata": {},
   "outputs": [],
   "source": [
    "# There are a tons of methods similar to these, and you can do a lot of stuff with those methods."
   ]
  },
  {
   "cell_type": "code",
   "execution_count": 91,
   "id": "c5eaa7fa-ec97-4421-94b1-bb486002b41f",
   "metadata": {},
   "outputs": [],
   "source": [
    "# Please visit https://numpy.org/doc/stable/user/basics.html and explore!"
   ]
  },
  {
   "cell_type": "code",
   "execution_count": null,
   "id": "f422faa5-8d34-482b-b457-0a0cae879df3",
   "metadata": {},
   "outputs": [],
   "source": []
  },
  {
   "cell_type": "code",
   "execution_count": null,
   "id": "f98fcef1-c910-4c7d-95a4-c7dc824ac4d5",
   "metadata": {},
   "outputs": [],
   "source": []
  }
 ],
 "metadata": {
  "kernelspec": {
   "display_name": "Python 3 (ipykernel)",
   "language": "python",
   "name": "python3"
  },
  "language_info": {
   "codemirror_mode": {
    "name": "ipython",
    "version": 3
   },
   "file_extension": ".py",
   "mimetype": "text/x-python",
   "name": "python",
   "nbconvert_exporter": "python",
   "pygments_lexer": "ipython3",
   "version": "3.10.13"
  }
 },
 "nbformat": 4,
 "nbformat_minor": 5
}
